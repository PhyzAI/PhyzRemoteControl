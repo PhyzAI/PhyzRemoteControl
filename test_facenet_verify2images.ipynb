{
 "cells": [
  {
   "cell_type": "markdown",
   "id": "d9baa87a-5825-4451-bc1a-dacd5b20fe08",
   "metadata": {},
   "source": [
    "https://medium.com/@danushidk507/facenet-pytorch-pretrained-pytorch-face-detection-mtcnn-and-facial-recognition-b20af8771144"
   ]
  },
  {
   "cell_type": "code",
   "execution_count": 28,
   "id": "6f2a8486-c6e8-43c3-b4c4-e0a9dbd0c850",
   "metadata": {},
   "outputs": [],
   "source": [
    "from facenet_pytorch import MTCNN, InceptionResnetV1\n",
    "from PIL import Image\n",
    "import torch\n",
    "\n",
    "# Initialize MTCNN for face detection\n",
    "#mtcnn = MTCNN()\n",
    "mtcnn = MTCNN(keep_all=True)   # Not sure why this is crucial\n",
    "\n",
    "# Load pre-trained Inception ResNet model\n",
    "resnet = InceptionResnetV1(pretrained='casia-webface').eval()\n",
    "\n",
    "# Load two face images to be verified\n",
    "img1 = Image.open('./Training/Keith/2024-05-10 14-44-20.jpeg')\n",
    "#img2 = Image.open('./Training/Keith/2024-05-10 14-44-25.jpeg')\n",
    "img2 = Image.open('./Barack-Obama-2012.jpg')\n"
   ]
  },
  {
   "cell_type": "raw",
   "id": "8103f743-cce6-45ad-85c3-cea9ffaf0dd4",
   "metadata": {},
   "source": [
    "# Initialize MTCNN for face detection\n",
    "mtcnn = MTCNN(keep_all=True)\n",
    "\n",
    "# Load pre-trained FaceNet model\n",
    "resnet = InceptionResnetV1(pretrained='casia-webface').eval()\n",
    "\n",
    "# Load an image containing faces\n",
    "img = Image.open('./Training/Keith/2024-05-10 14-44-20.jpeg')\n",
    "\n",
    "# Detect faces in the image\n",
    "boxes, _ = mtcnn.detect(img)\n",
    "\n",
    "# If faces are detected, extract embeddings\n",
    "if boxes is not None:\n",
    "    aligned = mtcnn(img)\n",
    "    embeddings = resnet(aligned).detach()"
   ]
  },
  {
   "cell_type": "code",
   "execution_count": 29,
   "id": "ed7b8c40-1ce7-4d1d-9bb9-f6af529662e0",
   "metadata": {},
   "outputs": [],
   "source": [
    "# Detect faces and extract embeddings\n",
    "faces1, _ = mtcnn.detect(img1)\n",
    "faces2, _ = mtcnn.detect(img2)"
   ]
  },
  {
   "cell_type": "code",
   "execution_count": 30,
   "id": "dee5ebb8-d639-4e88-899b-35bed017f339",
   "metadata": {},
   "outputs": [],
   "source": [
    "#if faces1 is not None and faces2 is not None:\n",
    "\n",
    "aligned1 = mtcnn(img1)\n",
    "aligned2 = mtcnn(img2)"
   ]
  },
  {
   "cell_type": "code",
   "execution_count": 31,
   "id": "61b68017-d2f9-46cb-b33b-abe57535a6b1",
   "metadata": {},
   "outputs": [],
   "source": [
    "embeddings1 = resnet(aligned1).detach()"
   ]
  },
  {
   "cell_type": "code",
   "execution_count": 32,
   "id": "c831355d-f91f-4934-98f7-5d61e01a984f",
   "metadata": {},
   "outputs": [],
   "source": [
    "embeddings2 = resnet(aligned2).detach()"
   ]
  },
  {
   "cell_type": "code",
   "execution_count": 33,
   "id": "fc6310d9-1ada-4dbb-9fb7-8c089f766bbd",
   "metadata": {},
   "outputs": [
    {
     "name": "stdout",
     "output_type": "stream",
     "text": [
      "Different persons\n"
     ]
    }
   ],
   "source": [
    "# Calculate the Euclidean distance between embeddings\n",
    "distance = (embeddings1 - embeddings2).norm().item()\n",
    "if distance < 1.0:  # You can adjust the threshold for verification\n",
    "    print(\"Same person\")\n",
    "else:\n",
    "    print(\"Different persons\")"
   ]
  },
  {
   "cell_type": "raw",
   "id": "cd0f1768-b9cd-4352-9cef-243f3455e95c",
   "metadata": {},
   "source": [
    "# FIXME: THis doesn't work -- not sure where this library comes from\n",
    "from age_gender_predictor import AgeGenderPredictor\n",
    "# Predict age and gender\n",
    "age, gender = predictor.predict_age_gender(embeddings1)\n",
    "print(f\"Predicted Age: {age} years\")\n",
    "print(f\"Predicted Gender: {gender}\")"
   ]
  },
  {
   "cell_type": "raw",
   "id": "0896cd30-bbe4-4c9c-92fc-448bca6e35a1",
   "metadata": {},
   "source": []
  }
 ],
 "metadata": {
  "kernelspec": {
   "display_name": "pytorch",
   "language": "python",
   "name": "pytorch"
  },
  "language_info": {
   "codemirror_mode": {
    "name": "ipython",
    "version": 3
   },
   "file_extension": ".py",
   "mimetype": "text/x-python",
   "name": "python",
   "nbconvert_exporter": "python",
   "pygments_lexer": "ipython3",
   "version": "3.11.9"
  }
 },
 "nbformat": 4,
 "nbformat_minor": 5
}
